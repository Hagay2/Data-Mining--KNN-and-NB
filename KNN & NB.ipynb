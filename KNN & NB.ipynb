{
 "cells": [
  {
   "cell_type": "code",
   "execution_count": 26,
   "id": "b06916a7-3dfd-452a-88dc-2e62b5be923d",
   "metadata": {},
   "outputs": [],
   "source": [
    "#Using pandas for loading the csv file into a dataframe\n",
    "import pandas as pd\n",
    "\n",
    "#Using matplotlib library for basic graph plotting\n",
    "import matplotlib.pyplot as plt\n",
    "\n",
    "#Using seaborn library that allows us to optimize matplotlib's output\n",
    "import seaborn as sns\n",
    "\n",
    "import matplotlib.pyplot as plt"
   ]
  },
  {
   "cell_type": "code",
   "execution_count": 27,
   "id": "736603fa-2a31-49e9-a919-adf771cd8e10",
   "metadata": {},
   "outputs": [
    {
     "data": {
      "text/html": [
       "<div>\n",
       "<style scoped>\n",
       "    .dataframe tbody tr th:only-of-type {\n",
       "        vertical-align: middle;\n",
       "    }\n",
       "\n",
       "    .dataframe tbody tr th {\n",
       "        vertical-align: top;\n",
       "    }\n",
       "\n",
       "    .dataframe thead th {\n",
       "        text-align: right;\n",
       "    }\n",
       "</style>\n",
       "<table border=\"1\" class=\"dataframe\">\n",
       "  <thead>\n",
       "    <tr style=\"text-align: right;\">\n",
       "      <th></th>\n",
       "      <th>user_id</th>\n",
       "      <th>country</th>\n",
       "      <th>sex</th>\n",
       "      <th>height</th>\n",
       "      <th>weight</th>\n",
       "      <th>age</th>\n",
       "      <th>years_cl</th>\n",
       "      <th>date_first</th>\n",
       "      <th>date_last</th>\n",
       "      <th>grades_count</th>\n",
       "      <th>grades_first</th>\n",
       "      <th>grades_last</th>\n",
       "      <th>grades_max</th>\n",
       "      <th>grades_mean</th>\n",
       "      <th>year_first</th>\n",
       "      <th>year_last</th>\n",
       "    </tr>\n",
       "  </thead>\n",
       "  <tbody>\n",
       "    <tr>\n",
       "      <th>0</th>\n",
       "      <td>1</td>\n",
       "      <td>SWE</td>\n",
       "      <td>0</td>\n",
       "      <td>177</td>\n",
       "      <td>73</td>\n",
       "      <td>41.0</td>\n",
       "      <td>21</td>\n",
       "      <td>1999-02-06 23:00:00</td>\n",
       "      <td>2001-07-31 22:00:00</td>\n",
       "      <td>84</td>\n",
       "      <td>36</td>\n",
       "      <td>55</td>\n",
       "      <td>62</td>\n",
       "      <td>46.750000</td>\n",
       "      <td>1999</td>\n",
       "      <td>2001</td>\n",
       "    </tr>\n",
       "    <tr>\n",
       "      <th>1</th>\n",
       "      <td>3</td>\n",
       "      <td>SWE</td>\n",
       "      <td>0</td>\n",
       "      <td>180</td>\n",
       "      <td>78</td>\n",
       "      <td>44.0</td>\n",
       "      <td>22</td>\n",
       "      <td>1999-03-31 22:00:00</td>\n",
       "      <td>2000-07-19 22:00:00</td>\n",
       "      <td>12</td>\n",
       "      <td>53</td>\n",
       "      <td>51</td>\n",
       "      <td>59</td>\n",
       "      <td>52.833333</td>\n",
       "      <td>1999</td>\n",
       "      <td>2000</td>\n",
       "    </tr>\n",
       "    <tr>\n",
       "      <th>2</th>\n",
       "      <td>4</td>\n",
       "      <td>SWE</td>\n",
       "      <td>1</td>\n",
       "      <td>165</td>\n",
       "      <td>58</td>\n",
       "      <td>33.0</td>\n",
       "      <td>16</td>\n",
       "      <td>2004-06-30 22:00:00</td>\n",
       "      <td>2009-05-26 22:00:00</td>\n",
       "      <td>119</td>\n",
       "      <td>53</td>\n",
       "      <td>49</td>\n",
       "      <td>64</td>\n",
       "      <td>53.890756</td>\n",
       "      <td>2004</td>\n",
       "      <td>2009</td>\n",
       "    </tr>\n",
       "    <tr>\n",
       "      <th>3</th>\n",
       "      <td>10</td>\n",
       "      <td>SWE</td>\n",
       "      <td>0</td>\n",
       "      <td>167</td>\n",
       "      <td>63</td>\n",
       "      <td>52.0</td>\n",
       "      <td>25</td>\n",
       "      <td>2000-01-14 23:00:00</td>\n",
       "      <td>2017-06-01 22:00:00</td>\n",
       "      <td>298</td>\n",
       "      <td>53</td>\n",
       "      <td>49</td>\n",
       "      <td>63</td>\n",
       "      <td>49.406040</td>\n",
       "      <td>2000</td>\n",
       "      <td>2017</td>\n",
       "    </tr>\n",
       "    <tr>\n",
       "      <th>4</th>\n",
       "      <td>16</td>\n",
       "      <td>NOR</td>\n",
       "      <td>0</td>\n",
       "      <td>177</td>\n",
       "      <td>68</td>\n",
       "      <td>44.0</td>\n",
       "      <td>21</td>\n",
       "      <td>1998-02-27 23:00:00</td>\n",
       "      <td>2010-05-13 22:00:00</td>\n",
       "      <td>5</td>\n",
       "      <td>53</td>\n",
       "      <td>49</td>\n",
       "      <td>53</td>\n",
       "      <td>51.400000</td>\n",
       "      <td>1998</td>\n",
       "      <td>2010</td>\n",
       "    </tr>\n",
       "  </tbody>\n",
       "</table>\n",
       "</div>"
      ],
      "text/plain": [
       "   user_id country  sex  height  weight   age  years_cl           date_first  \\\n",
       "0        1     SWE    0     177      73  41.0        21  1999-02-06 23:00:00   \n",
       "1        3     SWE    0     180      78  44.0        22  1999-03-31 22:00:00   \n",
       "2        4     SWE    1     165      58  33.0        16  2004-06-30 22:00:00   \n",
       "3       10     SWE    0     167      63  52.0        25  2000-01-14 23:00:00   \n",
       "4       16     NOR    0     177      68  44.0        21  1998-02-27 23:00:00   \n",
       "\n",
       "             date_last  grades_count  grades_first  grades_last  grades_max  \\\n",
       "0  2001-07-31 22:00:00            84            36           55          62   \n",
       "1  2000-07-19 22:00:00            12            53           51          59   \n",
       "2  2009-05-26 22:00:00           119            53           49          64   \n",
       "3  2017-06-01 22:00:00           298            53           49          63   \n",
       "4  2010-05-13 22:00:00             5            53           49          53   \n",
       "\n",
       "   grades_mean  year_first  year_last  \n",
       "0    46.750000        1999       2001  \n",
       "1    52.833333        1999       2000  \n",
       "2    53.890756        2004       2009  \n",
       "3    49.406040        2000       2017  \n",
       "4    51.400000        1998       2010  "
      ]
     },
     "execution_count": 27,
     "metadata": {},
     "output_type": "execute_result"
    }
   ],
   "source": [
    "climber = pd.read_csv('climber_df.csv')\n",
    "climber.head(5)"
   ]
  },
  {
   "cell_type": "code",
   "execution_count": 28,
   "id": "0391efdd-6cf8-40d0-a7e8-d88a5ba4c4f9",
   "metadata": {},
   "outputs": [
    {
     "data": {
      "text/plain": [
       "<seaborn.axisgrid.FacetGrid at 0x17c51a69910>"
      ]
     },
     "execution_count": 28,
     "metadata": {},
     "output_type": "execute_result"
    },
    {
     "data": {
      "image/png": "[encoded data removed]",
      "text/plain": [
       "<Figure size 360x360 with 1 Axes>"
      ]
     },
     "metadata": {
      "needs_background": "light"
     },
     "output_type": "display_data"
    }
   ],
   "source": [
    "##Generate at least 3 data visualizations\n",
    "sns.relplot(data=climber.head(30), x=\"grades_count\", y=\"height\")"
   ]
  },
  {
   "cell_type": "code",
   "execution_count": 29,
   "id": "96fbeb65-c16f-4979-84b9-55308fec88e1",
   "metadata": {},
   "outputs": [
    {
     "data": {
      "text/plain": [
       "<AxesSubplot:xlabel='years_cl', ylabel='grades_mean'>"
      ]
     },
     "execution_count": 29,
     "metadata": {},
     "output_type": "execute_result"
    },
    {
     "data": {
      "image/png": "[encoded data removed]",
      "text/plain": [
       "<Figure size 432x288 with 1 Axes>"
      ]
     },
     "metadata": {
      "needs_background": "light"
     },
     "output_type": "display_data"
    }
   ],
   "source": [
    "sns.regplot(data=climber.head(30), x=\"years_cl\", y=\"grades_mean\")"
   ]
  },
  {
   "cell_type": "code",
   "execution_count": 30,
   "id": "04d151af-18c2-45ab-807b-832a3d38e2a4",
   "metadata": {},
   "outputs": [
    {
     "data": {
      "image/png": "[encoded data removed]",
      "text/plain": [
       "<Figure size 432x288 with 2 Axes>"
      ]
     },
     "metadata": {
      "needs_background": "light"
     },
     "output_type": "display_data"
    }
   ],
   "source": [
    "sns.heatmap(climber.corr())\n",
    "plt.title('Correlation Plot')\n",
    "plt.show()"
   ]
  },
  {
   "cell_type": "code",
   "execution_count": 31,
   "id": "c2200fda-1227-4988-a9da-932113b1d1f6",
   "metadata": {},
   "outputs": [
    {
     "data": {
      "text/plain": [
       "user_id         0\n",
       "country         0\n",
       "sex             0\n",
       "height          0\n",
       "weight          0\n",
       "age             0\n",
       "years_cl        0\n",
       "date_first      0\n",
       "date_last       0\n",
       "grades_count    0\n",
       "grades_first    0\n",
       "grades_last     0\n",
       "grades_max      0\n",
       "grades_mean     0\n",
       "year_first      0\n",
       "year_last       0\n",
       "dtype: int64"
      ]
     },
     "execution_count": 31,
     "metadata": {},
     "output_type": "execute_result"
    }
   ],
   "source": [
    "#Finding how many Nans in the dataset\n",
    "climber.isna().sum()"
   ]
  },
  {
   "cell_type": "code",
   "execution_count": 32,
   "id": "247a1b33-1855-4a2d-8cec-58cd030a6a20",
   "metadata": {},
   "outputs": [
    {
     "data": {
      "text/plain": [
       "0    9560\n",
       "1    1367\n",
       "Name: sex, dtype: int64"
      ]
     },
     "execution_count": 32,
     "metadata": {},
     "output_type": "execute_result"
    }
   ],
   "source": [
    "climber['sex'].value_counts()"
   ]
  },
  {
   "cell_type": "code",
   "execution_count": 33,
   "id": "b71f9ef2-973b-4242-b507-d0521fdc6410",
   "metadata": {},
   "outputs": [],
   "source": [
    "#Splitting the dataset into features and targets\n",
    "y = climber[['sex']].values\n",
    "X = climber[['height', 'weight', 'years_cl']].values"
   ]
  },
  {
   "cell_type": "code",
   "execution_count": 34,
   "id": "5c61623c-db7e-46cb-8561-97df70fb02f3",
   "metadata": {},
   "outputs": [],
   "source": [
    "#Splitting the dataset into training and test sets in the ratio 70/30\n",
    "from sklearn.model_selection import train_test_split\n",
    "\n",
    "X_train, X_test, y_train, y_test = train_test_split(X, y, test_size = 0.30, random_state = 10)"
   ]
  },
  {
   "cell_type": "code",
   "execution_count": 35,
   "id": "c2179f79-fa1d-4cad-9c31-b513e1074d54",
   "metadata": {},
   "outputs": [],
   "source": [
    "from sklearn.preprocessing import StandardScaler\n",
    "\n",
    "sc = StandardScaler()\n",
    "X_train = sc.fit_transform(X_train)\n",
    "X_test = sc.transform(X_test)"
   ]
  },
  {
   "cell_type": "code",
   "execution_count": 36,
   "id": "d7d20458-2f0b-4a2f-b972-44883cb60c41",
   "metadata": {},
   "outputs": [],
   "source": [
    "from sklearn.neighbors import KNeighborsClassifier\n",
    "from sklearn.model_selection import train_test_split\n",
    "from sklearn.metrics import classification_report\n",
    "from sklearn.model_selection import KFold \n",
    "from sklearn.model_selection import StratifiedKFold\n",
    "from sklearn.model_selection import cross_val_score\n",
    "from sklearn.naive_bayes import GaussianNB"
   ]
  },
  {
   "cell_type": "code",
   "execution_count": 37,
   "id": "7eb7b4e0-ba70-4d5d-b48f-766c385bebc4",
   "metadata": {},
   "outputs": [
    {
     "data": {
      "text/plain": [
       "KNeighborsClassifier()"
      ]
     },
     "execution_count": 37,
     "metadata": {},
     "output_type": "execute_result"
    }
   ],
   "source": [
    "#Performing KNN\n",
    "knn = KNeighborsClassifier(n_neighbors=5)\n",
    "knn.fit(X_train, y_train.ravel())"
   ]
  },
  {
   "cell_type": "code",
   "execution_count": 38,
   "id": "deaf1ee5-7031-4f5f-bfa7-50b5426c15f3",
   "metadata": {},
   "outputs": [
    {
     "data": {
      "text/plain": [
       "GaussianNB()"
      ]
     },
     "execution_count": 38,
     "metadata": {},
     "output_type": "execute_result"
    }
   ],
   "source": [
    "#Performing Naive-Bayes\n",
    "gnb = GaussianNB()\n",
    "gnb.fit(X_train, y_train.ravel())"
   ]
  },
  {
   "cell_type": "code",
   "execution_count": 39,
   "id": "42244bb0-09ea-470d-8127-d2f687fbd31c",
   "metadata": {},
   "outputs": [
    {
     "name": "stdout",
     "output_type": "stream",
     "text": [
      " Avg accuracy:0.9131807281447569\n"
     ]
    }
   ],
   "source": [
    "#Performing 5 fold cross validation\n",
    "k = 5\n",
    "kf = KFold(n_splits=k)\n",
    "\n",
    "#for other scoring parameters see here https://scikit-learn.org/stable/modules/model_evaluation.html\n",
    "result = cross_val_score(knn, X_train, y_train.ravel(), cv = kf, scoring='accuracy')\n",
    " \n",
    "print(f' Avg accuracy:{result.mean()}')"
   ]
  },
  {
   "cell_type": "code",
   "execution_count": 40,
   "id": "53c48b91-669d-472a-9b7e-840b3792820a",
   "metadata": {},
   "outputs": [
    {
     "name": "stdout",
     "output_type": "stream",
     "text": [
      " Avg accuracy:0.9215476816407836\n"
     ]
    }
   ],
   "source": [
    "#Performing 5 fold cross validation\n",
    "k = 5\n",
    "kf = KFold(n_splits=k)\n",
    "\n",
    "#for other scoring parameters see here https://scikit-learn.org/stable/modules/model_evaluation.html\n",
    "result = cross_val_score(gnb, X_train, y_train.ravel(), cv = kf, scoring='accuracy')\n",
    " \n",
    "print(f' Avg accuracy:{result.mean()}')"
   ]
  },
  {
   "cell_type": "code",
   "execution_count": 41,
   "id": "00cfe7ed-7ea5-4a7e-88c7-c1b10e27c16a",
   "metadata": {},
   "outputs": [],
   "source": [
    "# Predicting the Test set results- KNN\n",
    "y_pred = knn.predict(X_test)"
   ]
  },
  {
   "cell_type": "code",
   "execution_count": 42,
   "id": "70651b83-c3fa-41bf-8792-c4414f8d1f0f",
   "metadata": {},
   "outputs": [],
   "source": [
    "# Predicting the Test set results- Naive Bayes\n",
    "y_pred_gnb = gnb.predict(X_test)"
   ]
  },
  {
   "cell_type": "code",
   "execution_count": 43,
   "id": "4704ddfd-2f72-48f7-afaa-18b571fa7137",
   "metadata": {},
   "outputs": [
    {
     "name": "stdout",
     "output_type": "stream",
     "text": [
      "              precision    recall  f1-score   support\n",
      "\n",
      "           0       0.95      0.95      0.95      2866\n",
      "           1       0.66      0.62      0.64       413\n",
      "\n",
      "    accuracy                           0.91      3279\n",
      "   macro avg       0.81      0.79      0.80      3279\n",
      "weighted avg       0.91      0.91      0.91      3279\n",
      "\n"
     ]
    }
   ],
   "source": [
    "#Generating a classification report-KNN\n",
    "from sklearn.metrics import classification_report\n",
    "\n",
    "print(classification_report(y_test, y_pred))"
   ]
  },
  {
   "cell_type": "code",
   "execution_count": 44,
   "id": "e5cd0c79-fffd-45ce-af0f-a0a566260792",
   "metadata": {},
   "outputs": [
    {
     "name": "stdout",
     "output_type": "stream",
     "text": [
      "              precision    recall  f1-score   support\n",
      "\n",
      "           0       0.96      0.94      0.95      2866\n",
      "           1       0.65      0.73      0.68       413\n",
      "\n",
      "    accuracy                           0.92      3279\n",
      "   macro avg       0.80      0.83      0.82      3279\n",
      "weighted avg       0.92      0.92      0.92      3279\n",
      "\n"
     ]
    }
   ],
   "source": [
    "#Generating a classification report- GNB\n",
    "from sklearn.metrics import classification_report\n",
    "\n",
    "print(classification_report(y_test, y_pred_gnb))"
   ]
  }
 ],
 "metadata": {
  "kernelspec": {
   "display_name": "Python 3 (ipykernel)",
   "language": "python",
   "name": "python3"
  },
  "language_info": {
   "codemirror_mode": {
    "name": "ipython",
    "version": 3
   },
   "file_extension": ".py",
   "mimetype": "text/x-python",
   "name": "python",
   "nbconvert_exporter": "python",
   "pygments_lexer": "ipython3",
   "version": "3.9.7"
  }
 },
 "nbformat": 4,
 "nbformat_minor": 5
}
